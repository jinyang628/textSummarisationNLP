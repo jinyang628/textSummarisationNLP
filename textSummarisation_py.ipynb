{
  "nbformat": 4,
  "nbformat_minor": 0,
  "metadata": {
    "colab": {
      "provenance": [],
      "authorship_tag": "ABX9TyOkWHKdqbNskLPnR7o/znet",
      "include_colab_link": true
    },
    "kernelspec": {
      "name": "python3",
      "display_name": "Python 3"
    },
    "language_info": {
      "name": "python"
    }
  },
  "cells": [
    {
      "cell_type": "markdown",
      "metadata": {
        "id": "view-in-github",
        "colab_type": "text"
      },
      "source": [
        "<a href=\"https://colab.research.google.com/github/jinyang628/textSummarisationNLP/blob/main/textSummarisation_py.ipynb\" target=\"_parent\"><img src=\"https://colab.research.google.com/assets/colab-badge.svg\" alt=\"Open In Colab\"/></a>"
      ]
    },
    {
      "cell_type": "code",
      "execution_count": 2,
      "metadata": {
        "id": "VHJ5bCJ-alOY",
        "colab": {
          "base_uri": "https://localhost:8080/"
        },
        "outputId": "c11c6d8b-a28a-4e50-aa70-d0ea61e22aeb"
      },
      "outputs": [
        {
          "output_type": "stream",
          "name": "stdout",
          "text": [
            "this is a test push\n"
          ]
        }
      ],
      "source": [
        "import tensorflow as tf\n",
        "print(\"this is a test push\")"
      ]
    }
  ]
}